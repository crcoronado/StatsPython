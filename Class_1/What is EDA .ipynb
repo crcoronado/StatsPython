{
 "cells": [
  {
   "cell_type": "code",
   "execution_count": 4,
   "id": "817ec224",
   "metadata": {},
   "outputs": [],
   "source": [
    "!jt -t chesterish -T -N -kl"
   ]
  },
  {
   "cell_type": "markdown",
   "id": "d9ddc9c1",
   "metadata": {},
   "source": [
    "# WHAT IS EDA\n",
    "\n",
    "Exploring your data, *usually visually* to gain insight into *relationships* \n",
    "in the data to catch *data peliculiarities* before impacting formal analisys \n"
   ]
  },
  {
   "cell_type": "markdown",
   "id": "d554945f",
   "metadata": {},
   "source": [
    "## Loading Datasets\n",
    "It si recommended to use *pandas.read_csv* command, but other options are:\n",
    "*numpy.loadtxt*\n",
    "*numpy.genfromtxt*\n",
    "*pickle*"
   ]
  },
  {
   "cell_type": "code",
   "execution_count": null,
   "id": "639818c4",
   "metadata": {},
   "outputs": [],
   "source": []
  }
 ],
 "metadata": {
  "kernelspec": {
   "display_name": "Python 3",
   "language": "python",
   "name": "python3"
  },
  "language_info": {
   "codemirror_mode": {
    "name": "ipython",
    "version": 3
   },
   "file_extension": ".py",
   "mimetype": "text/x-python",
   "name": "python",
   "nbconvert_exporter": "python",
   "pygments_lexer": "ipython3",
   "version": "3.8.8"
  }
 },
 "nbformat": 4,
 "nbformat_minor": 5
}
